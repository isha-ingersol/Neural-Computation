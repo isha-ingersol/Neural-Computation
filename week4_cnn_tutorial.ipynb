{
  "nbformat": 4,
  "nbformat_minor": 0,
  "metadata": {
    "kernelspec": {
      "display_name": "Python 3",
      "language": "python",
      "name": "python3"
    },
    "language_info": {
      "codemirror_mode": {
        "name": "ipython",
        "version": 3
      },
      "file_extension": ".py",
      "mimetype": "text/x-python",
      "name": "python",
      "nbconvert_exporter": "python",
      "pygments_lexer": "ipython3",
      "version": "3.6.13"
    },
    "colab": {
      "provenance": [],
      "include_colab_link": true
    },
    "accelerator": "GPU"
  },
  "cells": [
    {
      "cell_type": "markdown",
      "metadata": {
        "id": "view-in-github",
        "colab_type": "text"
      },
      "source": [
        "<a href=\"https://colab.research.google.com/github/isha-ingersol/Neural-Computation/blob/main/week4_cnn_tutorial.ipynb\" target=\"_parent\"><img src=\"https://colab.research.google.com/assets/colab-badge.svg\" alt=\"Open In Colab\"/></a>"
      ]
    },
    {
      "cell_type": "markdown",
      "metadata": {
        "id": "8p--yEGcozLE"
      },
      "source": [
        "\n",
        "# Neural Computation Exercise 6-2: Training a CNN Classifier\n",
        "\n",
        "Training a Classifier\n",
        "=====================\n",
        "\n",
        "This is it, you have seen how to define neural networks, compute loss and make\n",
        "updates to the weights of the network.\n",
        "\n",
        "Now you might be thinking, What about data?\n",
        "\n",
        "Generally, when you have to deal with image, text, audio or video data,\n",
        "you can use standard python packages that load data into a numpy array.\n",
        "Then you can convert this array into a ``torch.*Tensor``.\n",
        "\n",
        "-  For images, packages such as Pillow, OpenCV are useful\n",
        "-  For audio, packages such as scipy and librosa\n",
        "-  For text, either raw Python or Cython based loading, or NLTK and\n",
        "   SpaCy are useful\n",
        "\n",
        "Specifically for vision, we have created a package called\n",
        "``torchvision``, that has data loaders for common datasets such as\n",
        "ImageNet, CIFAR10, MNIST, etc. and data transformers for images, viz.,\n",
        "``torchvision.datasets`` and ``torch.utils.data.DataLoader``.\n",
        "\n",
        "This provides a huge convenience and avoids writing boilerplate code.\n",
        "\n",
        "For this tutorial, we will use the CIFAR10 dataset.\n",
        "It has the classes: ‘airplane’, ‘automobile’, ‘bird’, ‘cat’, ‘deer’,\n",
        "‘dog’, ‘frog’, ‘horse’, ‘ship’, ‘truck’. The images in CIFAR-10 are of\n",
        "size 3x32x32, i.e. 3-channel color images of 32x32 pixels in size.\n",
        "\n",
        "# Training an image classifier\n",
        "\n",
        "We will do the following steps in order:\n",
        "\n",
        "1. Load and normalize the CIFAR10 training and test datasets using\n",
        "   ``torchvision``\n",
        "2. Define a Convolutional Neural Network\n",
        "3. Define a loss function\n",
        "4. Train the network on the training data\n",
        "5. Test the network on the test data\n",
        "\n",
        "# Load and normalize CIFAR10\n",
        "\n",
        "\n",
        "Using ``torchvision``, it’s extremely easy to load CIFAR10.\n",
        "\n"
      ]
    },
    {
      "cell_type": "markdown",
      "source": [],
      "metadata": {
        "id": "7HISlLBy2lVd"
      }
    },
    {
      "cell_type": "code",
      "metadata": {
        "id": "ACqdNbfMozLH"
      },
      "source": [
        "import torch\n",
        "import torchvision\n",
        "import torchvision.transforms as transforms"
      ],
      "execution_count": 4,
      "outputs": []
    },
    {
      "cell_type": "markdown",
      "metadata": {
        "id": "5EM2Gw7nLAlN"
      },
      "source": [
        "Using the same method we did in the last tutorial, we will take advantage of a GPU if one is available.\n",
        "\n",
        "\n",
        "\n"
      ]
    },
    {
      "cell_type": "code",
      "metadata": {
        "id": "zPJm8401LAH2",
        "colab": {
          "base_uri": "https://localhost:8080/"
        },
        "outputId": "f862fc23-f37e-46ea-e448-a9b5ae529d6f"
      },
      "source": [
        "device = torch.device(\"cuda:0\" if torch.cuda.is_available() else \"cpu\")\n",
        "print(f\"The current device is {device}\")\n"
      ],
      "execution_count": 5,
      "outputs": [
        {
          "output_type": "stream",
          "name": "stdout",
          "text": [
            "The current device is cuda:0\n"
          ]
        }
      ]
    },
    {
      "cell_type": "markdown",
      "metadata": {
        "id": "Iw8PyfmzozLI"
      },
      "source": [
        "The output of torchvision datasets are PILImage images of range [0, 1].\n",
        "We transform them to Tensors of normalized range [-1, 1]. Since the CIFAR10 images are RGB they are made up of 3 channels, representing the red, blue and green components of the image. The `transforms.Normalize()` function applys a normalising transformation to each channel of the data, the first tuple is a value to be subtracted from each respective channel, and the second tuple gives the value each respective channel will be divided by.  i.e.:Given `mean = (mean[1],...,mean[n])` and `std = (std[1],..,std[n])` for n channels, this transform will normalize each channel of the input torch.*Tensor: `output[channel] = (input[channel] - mean[channel]) / std[channel]`\n"
      ]
    },
    {
      "cell_type": "markdown",
      "metadata": {
        "id": "ui3BB0kTozLI"
      },
      "source": [
        "<div class=\"alert alert-info\"><h4>Note</h4><p>If running on Windows and you get a BrokenPipeError, try setting\n",
        "    the num_worker of torch.utils.data.DataLoader() to 0.</p></div>\n",
        "\n"
      ]
    },
    {
      "cell_type": "code",
      "metadata": {
        "id": "pDRMBmMzozLJ",
        "colab": {
          "base_uri": "https://localhost:8080/"
        },
        "outputId": "32de742b-3c2e-4228-8082-c59bd1b415eb"
      },
      "source": [
        "transform = transforms.Compose(\n",
        "    [transforms.ToTensor(),\n",
        "     transforms.Normalize((0.5, 0.5, 0.5), (0.5, 0.5, 0.5))])\n",
        "\n",
        "batch_size = 4\n",
        "\n",
        "trainset = torchvision.datasets.CIFAR10(root='./data', train=True,\n",
        "                                        download=True, transform=transform)\n",
        "trainloader = torch.utils.data.DataLoader(trainset, batch_size=batch_size,\n",
        "                                          shuffle=True, num_workers=2)\n",
        "\n",
        "testset = torchvision.datasets.CIFAR10(root='./data', train=False,\n",
        "                                       download=True, transform=transform)\n",
        "testloader = torch.utils.data.DataLoader(testset, batch_size=batch_size,\n",
        "                                         shuffle=False, num_workers=2)\n",
        "\n",
        "classes = ('plane', 'car', 'bird', 'cat',\n",
        "           'deer', 'dog', 'frog', 'horse', 'ship', 'truck')"
      ],
      "execution_count": 6,
      "outputs": [
        {
          "output_type": "stream",
          "name": "stdout",
          "text": [
            "Downloading https://www.cs.toronto.edu/~kriz/cifar-10-python.tar.gz to ./data/cifar-10-python.tar.gz\n"
          ]
        },
        {
          "output_type": "stream",
          "name": "stderr",
          "text": [
            "100%|██████████| 170498071/170498071 [00:03<00:00, 45527858.99it/s]\n"
          ]
        },
        {
          "output_type": "stream",
          "name": "stdout",
          "text": [
            "Extracting ./data/cifar-10-python.tar.gz to ./data\n",
            "Files already downloaded and verified\n"
          ]
        }
      ]
    },
    {
      "cell_type": "markdown",
      "metadata": {
        "id": "6awsWm1YozLK"
      },
      "source": [
        "Let us show some of the training images, for fun.\n",
        "\n"
      ]
    },
    {
      "cell_type": "code",
      "metadata": {
        "id": "NMDQgSVoozLL",
        "colab": {
          "base_uri": "https://localhost:8080/",
          "height": 532
        },
        "outputId": "b415caec-75dc-44ec-a5c6-e828caa861d3"
      },
      "source": [
        "import matplotlib.pyplot as plt\n",
        "import numpy as np\n",
        "\n",
        "# functions to show an image\n",
        "\n",
        "\n",
        "def imshow(img):\n",
        "    img = img / 2 + 0.5     # unnormalize\n",
        "    npimg = img.numpy()\n",
        "    plt.imshow(np.transpose(npimg, (1, 2, 0)))\n",
        "    plt.show()\n",
        "\n",
        "\n",
        "# get some random training images\n",
        "dataiter = iter(trainloader)\n",
        "# images, labels = dataiter.next()\n",
        "images, labels = next(dataiter)\n",
        "\n",
        "# show images\n",
        "imshow(torchvision.utils.make_grid(images))\n",
        "# print labels\n",
        "print(' '.join('%5s' % classes[labels[j]] for j in range(batch_size)))"
      ],
      "execution_count": 9,
      "outputs": [
        {
          "output_type": "stream",
          "name": "stderr",
          "text": [
            "Exception ignored in: <function _MultiProcessingDataLoaderIter.__del__ at 0x7a34e4faa830>\n",
            "Traceback (most recent call last):\n",
            "  File \"/usr/local/lib/python3.10/dist-packages/torch/utils/data/dataloader.py\", line 1478, in __del__\n",
            "    self._shutdown_workers()Exception ignored in: \n",
            "  File \"/usr/local/lib/python3.10/dist-packages/torch/utils/data/dataloader.py\", line 1461, in _shutdown_workers\n",
            "<function _MultiProcessingDataLoaderIter.__del__ at 0x7a34e4faa830>\n",
            "Traceback (most recent call last):\n",
            "      File \"/usr/local/lib/python3.10/dist-packages/torch/utils/data/dataloader.py\", line 1478, in __del__\n",
            "if w.is_alive():    \n",
            "  File \"/usr/lib/python3.10/multiprocessing/process.py\", line 160, in is_alive\n",
            "self._shutdown_workers()    assert self._parent_pid == os.getpid(), 'can only test a child process'\n",
            "\n",
            "AssertionError  File \"/usr/local/lib/python3.10/dist-packages/torch/utils/data/dataloader.py\", line 1461, in _shutdown_workers\n",
            ": can only test a child process    \n",
            "if w.is_alive():\n",
            "  File \"/usr/lib/python3.10/multiprocessing/process.py\", line 160, in is_alive\n",
            "    assert self._parent_pid == os.getpid(), 'can only test a child process'\n",
            "AssertionError: can only test a child process\n"
          ]
        },
        {
          "output_type": "display_data",
          "data": {
            "text/plain": [
              "<Figure size 640x480 with 1 Axes>"
            ],
            "image/png": "[encoded data removed]"
          },
          "metadata": {}
        },
        {
          "output_type": "stream",
          "name": "stdout",
          "text": [
            "truck   dog  frog  bird\n"
          ]
        }
      ]
    },
    {
      "cell_type": "markdown",
      "metadata": {
        "id": "UjD7sA-cozLN"
      },
      "source": [
        "# Define a Convolutional Neural Network\n",
        "Here we will define the Convolutional Neural Network which we will be using to classify the images. We develop this network using some components you will be familiar with from lectures, consisting of convolutional layers, max pooling layers and fully connected layers. We use the respective pytorch sub-modules seen in the `__init__` definition below. The Pytorch documentation is a good way of seeing what each of these sub modules does.\n",
        "\n",
        "For the forward pass of this network we input a 3 channeled image into the neural network, and it outputs a vector of length 10. This vector contains the raw un-normalised scores for each of the 10 classes. Once trained, the class with the highest score will be the predicted class. Understanding what each sub-module in the network is doing is key, so I give a brief overview below:\n",
        "\n",
        "- `nn.Conv2d(in_channels, out_channels, kernel_size)` - an instance of this sub-module will be a 2 d convolution layer which takes a mini-batch of images with `in_channels` and convolves these images with `out_channels` kernels of height and width `kernel_size` (and `in_channels` depth) to give an output image with `out_channels` many channels.\n",
        "\n",
        "- `nn.MaxPool2d(kernel_size)` - an instance of this sub-module will be a 2d maxpooling with a `kernel_size` sized kernel.\n",
        "\n",
        "- `nn.Linear(in_channels,out_channels)` - was covered in the last tutorial and acts as a fully connected layer between a vector of length `in_features` and a vector of length `out_features`.\n",
        "\n",
        "These are by no means exhaustive explanations, please refer to the official Pytorch documentation to find out more. The instances of these submodules, which are created in the `__init__` method, are then arranged in the `forward` method of the model to define a forward pass. Note that `F.relu()` functionals are also used in the `forward` method, however are not required to be defined in the `__init__` method, this is the case with any functionals used in the forward sequence of a neural network (one example being most activation functions).\n",
        "\n"
      ]
    },
    {
      "cell_type": "code",
      "metadata": {
        "id": "UgsKzWjoozLO"
      },
      "source": [
        "import torch.nn as nn\n",
        "import torch.nn.functional as F\n",
        "\n",
        "\n",
        "class Net(nn.Module):\n",
        "    def __init__(self):\n",
        "        super().__init__()\n",
        "        self.conv1 = nn.Conv2d(3, 6, 5)\n",
        "        self.pool = nn.MaxPool2d(2, 2)\n",
        "        self.conv2 = nn.Conv2d(6, 16, 5)\n",
        "        self.fc1 = nn.Linear(16 * 5 * 5, 120)\n",
        "        self.fc2 = nn.Linear(120, 84)\n",
        "        self.fc3 = nn.Linear(84, 10)\n",
        "\n",
        "    def forward(self, x):\n",
        "        x = self.pool(F.relu(self.conv1(x)))\n",
        "        x = self.pool(F.relu(self.conv2(x)))\n",
        "        x = torch.flatten(x, 1) # flatten all dimensions except batch\n",
        "        x = F.relu(self.fc1(x))\n",
        "        x = F.relu(self.fc2(x))\n",
        "        x = self.fc3(x)\n",
        "        return x\n",
        "\n",
        "\n",
        "net = Net().to(device)"
      ],
      "execution_count": 10,
      "outputs": []
    },
    {
      "cell_type": "markdown",
      "metadata": {
        "id": "sA7uY_cEozLP"
      },
      "source": [
        "# Define a Loss function and optimizer\n",
        "\n",
        "Let's use a Classification Cross-Entropy loss and SGD with momentum. The `nn.CrossEntropyLoss` only requires the raw un-normalised scores for each class, hence why we don't need a soft-max layer in our network (it is actually built into this loss function). `optim.SGD` allows us to apply minibatch gradient descent with momentum using the hyperparameters below\n",
        "- learning rate = 0.001\n",
        "- momentum = 0.9\n",
        "\n",
        "Please complete the following code:\n"
      ]
    },
    {
      "cell_type": "code",
      "metadata": {
        "id": "S2JYmmPaozLP"
      },
      "source": [
        "import torch.optim as optim\n",
        "#####PLEASE COMPLETE THE FOLLOWING CODE#####\n",
        "#set the criterion to the appropriate loss function and the otpimiser to the appropriate optimiser.\n",
        "#criterion =\n",
        "criterion = nn.CrossEntropyLoss()\n",
        "#optimizer =\n",
        "optimizer = optim.SGD(net.parameters(), lr=0.001, momentum=0.9)\n",
        "############################################"
      ],
      "execution_count": 11,
      "outputs": []
    },
    {
      "cell_type": "markdown",
      "metadata": {
        "id": "xS9RWEU3ozLQ"
      },
      "source": [
        "# Train the network\n",
        "\n",
        "\n",
        "This is when things start to get interesting.\n",
        "We simply have to loop over our data iterator, and feed the inputs to the\n",
        "network and optimize. These lines of code are key to training networks in Pytorch and it is essential you understand how they work. They will be similar to those covered in the previous tutorial. Please complete the code below with the neccessary training steps. If you are struggling you may wish to refer to the previous tutorial.\n",
        "\n"
      ]
    },
    {
      "cell_type": "code",
      "metadata": {
        "id": "UM618RphozLQ",
        "colab": {
          "base_uri": "https://localhost:8080/"
        },
        "outputId": "c946dd99-48da-492f-96d9-8483d574ba7f"
      },
      "source": [
        "for epoch in range(2):  # loop over the dataset multiple times\n",
        "\n",
        "    running_loss = 0.0\n",
        "    for i, data in enumerate(trainloader, 0):\n",
        "        # get the inputs; data is a list of [inputs, labels] and move them to\n",
        "        #the current device\n",
        "        inputs, labels = data\n",
        "        inputs = inputs.to(device)\n",
        "        labels = labels.to(device)\n",
        "\n",
        "        #####PLEASE COMPLETE THE FOLLOWING CODE#####\n",
        "        #insert the neccessary lines of code to complete the training loop here\n",
        "        #(approx 5 lines of code)\n",
        "        ############################################\n",
        "\n",
        "        # Zero the parameter gradients\n",
        "        optimizer.zero_grad()\n",
        "        # Forward pass\n",
        "        outputs = net(inputs)\n",
        "        loss = criterion(outputs, labels)\n",
        "        # Backward pass and optimization\n",
        "        loss.backward()\n",
        "        optimizer.step()\n",
        "\n",
        "\n",
        "        # print statistics - epoch and loss\n",
        "        running_loss += loss.item()\n",
        "        if i % 2000 == 1999:    # print every 2000 mini-batches\n",
        "            print('[%d, %5d] loss: %.3f' %\n",
        "                  (epoch + 1, i + 1, running_loss / 2000))\n",
        "            running_loss = 0.0\n",
        "\n",
        "print('Finished Training')"
      ],
      "execution_count": 12,
      "outputs": [
        {
          "output_type": "stream",
          "name": "stdout",
          "text": [
            "[1,  2000] loss: 2.207\n",
            "[1,  4000] loss: 1.833\n",
            "[1,  6000] loss: 1.688\n",
            "[1,  8000] loss: 1.603\n",
            "[1, 10000] loss: 1.509\n",
            "[1, 12000] loss: 1.470\n",
            "[2,  2000] loss: 1.406\n",
            "[2,  4000] loss: 1.382\n",
            "[2,  6000] loss: 1.344\n",
            "[2,  8000] loss: 1.344\n",
            "[2, 10000] loss: 1.302\n",
            "[2, 12000] loss: 1.292\n",
            "Finished Training\n"
          ]
        }
      ]
    },
    {
      "cell_type": "markdown",
      "metadata": {
        "id": "dmsv1Pj5ozLR"
      },
      "source": [
        "Let's quickly save our trained model:\n",
        "\n"
      ]
    },
    {
      "cell_type": "code",
      "metadata": {
        "id": "9FGm9rI7ozLS"
      },
      "source": [
        "PATH = './cifar_net.pth'\n",
        "torch.save(net.state_dict(), PATH)"
      ],
      "execution_count": 13,
      "outputs": []
    },
    {
      "cell_type": "markdown",
      "metadata": {
        "id": "ymQdATFtozLS"
      },
      "source": [
        "See `here <https://pytorch.org/docs/stable/notes/serialization.html>`_\n",
        "for more details on saving PyTorch models.\n",
        "\n",
        "# Test the network on the test data\n",
        "\n",
        "\n",
        "We have trained the network for 2 passes over the training dataset.\n",
        "But we need to check if the network has learnt anything at all.\n",
        "\n",
        "We will check this by predicting the class label that the neural network\n",
        "outputs, and checking it against the ground-truth. If the prediction is\n",
        "correct, we add the sample to the list of correct predictions.\n",
        "\n",
        "Okay, first step. Let us display a mini-batch of images from the test set to get familiar.\n",
        "\n"
      ]
    },
    {
      "cell_type": "code",
      "metadata": {
        "id": "voiOC07KozLT",
        "colab": {
          "base_uri": "https://localhost:8080/",
          "height": 211
        },
        "outputId": "b97add5f-e074-46d6-c7ef-5d5e4f311a8f"
      },
      "source": [
        "dataiter = iter(testloader)\n",
        "images, labels = next(dataiter) #Selects a mini-batch and its labels\n",
        "\n",
        "# print images\n",
        "imshow(torchvision.utils.make_grid(images))\n",
        "print('GroundTruth: ', ' '.join('%5s' % classes[labels[j]] for j in range(4)))"
      ],
      "execution_count": 15,
      "outputs": [
        {
          "output_type": "display_data",
          "data": {
            "text/plain": [
              "<Figure size 640x480 with 1 Axes>"
            ],
            "image/png": "[encoded data removed]"
          },
          "metadata": {}
        },
        {
          "output_type": "stream",
          "name": "stdout",
          "text": [
            "GroundTruth:    cat  ship  ship plane\n"
          ]
        }
      ]
    },
    {
      "cell_type": "markdown",
      "metadata": {
        "id": "1fr5gf9JozLT"
      },
      "source": [
        "Next, let's load back in our saved model (note: saving and re-loading the model\n",
        "wasn't necessary here, we only did it to illustrate how to do so):\n",
        "\n"
      ]
    },
    {
      "cell_type": "code",
      "metadata": {
        "id": "ubhQCrEEozLT",
        "colab": {
          "base_uri": "https://localhost:8080/"
        },
        "outputId": "1fbd09f0-c563-4e14-f8cf-65697908f4a9"
      },
      "source": [
        "net = Net()\n",
        "net.load_state_dict(torch.load(PATH))"
      ],
      "execution_count": 16,
      "outputs": [
        {
          "output_type": "execute_result",
          "data": {
            "text/plain": [
              "<All keys matched successfully>"
            ]
          },
          "metadata": {},
          "execution_count": 16
        }
      ]
    },
    {
      "cell_type": "markdown",
      "metadata": {
        "id": "hht9YwkXozLU"
      },
      "source": [
        "Okay, now let us see what the neural network thinks these examples above are. Please assign the output of the neural network to `outputs` variable below.\n",
        "\n"
      ]
    },
    {
      "cell_type": "code",
      "metadata": {
        "id": "ngSKYwfuozLU"
      },
      "source": [
        "images = images.to(device)\n",
        "labels = labels.to(device)\n",
        "#####PLEASE COMPLETE THE FOLLOWING CODE#####\n",
        "#Assign the output of the neural network to the below variable.\n",
        "#outputs =\n",
        "net.to(device)  # Move the model to the GPU\n",
        "images = images.to(device)  # Move the input data to the GPU\n",
        "outputs = net(images)  # Compute predictions on the GPU\n",
        "#############################################"
      ],
      "execution_count": 18,
      "outputs": []
    },
    {
      "cell_type": "markdown",
      "metadata": {
        "id": "2sQePV7aozLU"
      },
      "source": [
        "The outputs are energies for the 10 classes.\n",
        "The higher the energy for a class, the more the network\n",
        "thinks that the image is of the particular class.\n",
        "So, let's get the index of the highest energy.\n",
        "\n"
      ]
    },
    {
      "cell_type": "code",
      "metadata": {
        "id": "YjSheh1XozLV",
        "colab": {
          "base_uri": "https://localhost:8080/"
        },
        "outputId": "a46eb631-f207-4dbb-c93c-9b06d5e40629"
      },
      "source": [
        "_, predicted = torch.max(outputs, 1) #Returns a tuple (max,max indicies), we only need the max indicies.\n",
        "\n",
        "print('Predicted: ', ' '.join('%5s' % classes[predicted[j]]\n",
        "                              for j in range(4)))"
      ],
      "execution_count": 20,
      "outputs": [
        {
          "output_type": "stream",
          "name": "stdout",
          "text": [
            "Predicted:    cat  ship  ship  ship\n"
          ]
        }
      ]
    },
    {
      "cell_type": "markdown",
      "metadata": {
        "id": "7PACPhadozLV"
      },
      "source": [
        "The results seem pretty good.\n",
        "\n",
        "Let us look at how the network performs on the whole dataset. Below we keep track of the total numnber of predictions made by our network in the variable `total` and the number of correct predictions made by our network in the variable `correct`. This allows us to calculate the proportion of correct predictions the network makes. Please complete the code below to update these values for each mini-batch.\n",
        "\n"
      ]
    },
    {
      "cell_type": "code",
      "metadata": {
        "id": "--mqyNY1ozLV",
        "colab": {
          "base_uri": "https://localhost:8080/"
        },
        "outputId": "0165ecf2-e041-49f6-ee15-032203f6a53d"
      },
      "source": [
        "correct = 0\n",
        "total = 0\n",
        "# since we're not training, we don't need to calculate the gradients for our outputs\n",
        "with torch.no_grad():\n",
        "    for data in testloader:\n",
        "        images, labels = data\n",
        "        images = images.to(device)\n",
        "        labels = labels.to(device)\n",
        "\n",
        "        # calculate outputs by running images through the network\n",
        "        outputs = net(images)\n",
        "\n",
        "        # the class with the highest energy is what we choose as prediction\n",
        "        _, predicted = torch.max(outputs.data, 1)\n",
        "\n",
        "        #####PLEASE COMPLETE THE FOLLOWING CODE#####\n",
        "        #total should store the cumulative number of predictions made by the network\n",
        "        #correct should do the same only for correct predictions made by the network\n",
        "        #total +=\n",
        "        total += labels.size(0)  # Increment total by the number of predictions in this batch\n",
        "        #correct +=\n",
        "        correct += (predicted == labels).sum().item()  # Increment correct by the number of correct predictions in this batch\n",
        "        ############################################\n",
        "\n",
        "print('Accuracy of the network on the 10000 test images: %d %%' % (\n",
        "    100 * correct / total))"
      ],
      "execution_count": 21,
      "outputs": [
        {
          "output_type": "stream",
          "name": "stdout",
          "text": [
            "Accuracy of the network on the 10000 test images: 54 %\n"
          ]
        }
      ]
    },
    {
      "cell_type": "markdown",
      "metadata": {
        "id": "1NcHcSFjozLV"
      },
      "source": [
        "That looks way better than chance, which is 10% accuracy (randomly picking\n",
        "a class out of 10 classes).\n",
        "It seems like the network learnt something.\n",
        "\n",
        "Hmmm, what are the classes that performed well, and the classes that did\n",
        "not perform well. This can be some useful analysis to carry out as it can show you the limits of your neural network, and they are often areas where the network could be improved.\n",
        "\n"
      ]
    },
    {
      "cell_type": "code",
      "metadata": {
        "id": "4I78hvpgozLV",
        "colab": {
          "base_uri": "https://localhost:8080/"
        },
        "outputId": "78910861-d2b7-426c-d3d0-04a12a307c3c"
      },
      "source": [
        "# prepare to count predictions for each class\n",
        "correct_pred = {classname: 0 for classname in classes}\n",
        "total_pred = {classname: 0 for classname in classes}\n",
        "\n",
        "# again no gradients needed\n",
        "with torch.no_grad():\n",
        "    for data in testloader:\n",
        "        images, labels = data\n",
        "        images = images.to(device)\n",
        "        labels = labels.to(device)\n",
        "\n",
        "        outputs = net(images)\n",
        "        _, predictions = torch.max(outputs, 1)\n",
        "        # collect the correct predictions for each class\n",
        "        for label, prediction in zip(labels, predictions):\n",
        "            if label == prediction:\n",
        "                correct_pred[classes[label]] += 1\n",
        "            total_pred[classes[label]] += 1\n",
        "\n",
        "# print accuracy for each class\n",
        "for classname, correct_count in correct_pred.items():\n",
        "    accuracy = 100 * float(correct_count) / total_pred[classname]\n",
        "    print(\"Accuracy for class {:5s} is: {:.1f} %\".format(classname,\n",
        "                                                   accuracy))"
      ],
      "execution_count": 22,
      "outputs": [
        {
          "output_type": "stream",
          "name": "stdout",
          "text": [
            "Accuracy for class plane is: 64.7 %\n",
            "Accuracy for class car   is: 75.3 %\n",
            "Accuracy for class bird  is: 38.4 %\n",
            "Accuracy for class cat   is: 30.3 %\n",
            "Accuracy for class deer  is: 49.5 %\n",
            "Accuracy for class dog   is: 39.9 %\n",
            "Accuracy for class frog  is: 70.0 %\n",
            "Accuracy for class horse is: 51.9 %\n",
            "Accuracy for class ship  is: 65.8 %\n",
            "Accuracy for class truck is: 58.4 %\n"
          ]
        }
      ]
    },
    {
      "cell_type": "markdown",
      "metadata": {
        "id": "uWF1bSVdozLW"
      },
      "source": [
        "So now you have trained a convolutional neural nework to perform an image classification task, potentially on a GPU. If this is the case you may ask yourself, 'why don't I notice MASSIVE speedup compared to CPU?' The answer is simply that the network you are training is really small.\n",
        "\n",
        "**Exercise:** Try increasing the width of your network (argument 2 of\n",
        "the first ``nn.Conv2d``, and argument 1 of the second ``nn.Conv2d`` –\n",
        "they need to be the same number), see what kind of speedup you get.\n",
        "\n",
        "**Goals achieved**:\n",
        "\n",
        "- Understanding PyTorch's Tensor library and neural networks at a high level.\n",
        "- Train a small neural network to classify images\n",
        "\n",
        "\n",
        "\n",
        "\n"
      ]
    }
  ]
}